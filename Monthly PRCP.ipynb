{
 "cells": [
  {
   "cell_type": "code",
   "execution_count": 17,
   "id": "6e672908",
   "metadata": {},
   "outputs": [
    {
     "name": "stdout",
     "output_type": "stream",
     "text": [
      "No negative PRCP values.\n"
     ]
    }
   ],
   "source": [
    "import pandas as pd\n",
    "\n",
    "data = pd.read_csv('combined_data.csv')\n",
    "data['DATE'] = pd.to_datetime(data['DATE'])\n",
    "data['YEAR'] = data['DATE'].dt.year\n",
    "data['MONTH'] = data['DATE'].dt.month\n",
    "\n",
    "# check for negative prcp values\n",
    "negative_prcp_rows = data[data['PRCP'] < 0]\n",
    "\n",
    "if not negative_prcp_rows.empty:\n",
    "    print(\"Rows with negative PRCP values:\")\n",
    "    print(negative_prcp_rows)\n",
    "else:\n",
    "    print(\"No negative PRCP values.\")\n"
   ]
  },
  {
   "cell_type": "code",
   "execution_count": 21,
   "id": "023e57ea",
   "metadata": {},
   "outputs": [
    {
     "name": "stdout",
     "output_type": "stream",
     "text": [
      "The earliest year: 1998\n"
     ]
    }
   ],
   "source": [
    "import pandas as pd\n",
    "\n",
    "data = pd.read_csv('combined_data.csv')\n",
    "data['DATE'] = pd.to_datetime(data['DATE'])\n",
    "\n",
    "earliest_prcp_year = data['DATE'].min().year\n",
    "\n",
    "print(f\"The earliest year: {earliest_prcp_year}\")\n"
   ]
  },
  {
   "cell_type": "code",
   "execution_count": 32,
   "id": "31a88e18",
   "metadata": {},
   "outputs": [
    {
     "data": {
      "text/html": [
       "<div>\n",
       "<style scoped>\n",
       "    .dataframe tbody tr th:only-of-type {\n",
       "        vertical-align: middle;\n",
       "    }\n",
       "\n",
       "    .dataframe tbody tr th {\n",
       "        vertical-align: top;\n",
       "    }\n",
       "\n",
       "    .dataframe thead th {\n",
       "        text-align: right;\n",
       "    }\n",
       "</style>\n",
       "<table border=\"1\" class=\"dataframe\">\n",
       "  <thead>\n",
       "    <tr style=\"text-align: right;\">\n",
       "      <th></th>\n",
       "      <th>STATION</th>\n",
       "      <th>MONTHLY PRCP</th>\n",
       "      <th>YEAR/MONTH</th>\n",
       "    </tr>\n",
       "  </thead>\n",
       "  <tbody>\n",
       "    <tr>\n",
       "      <th>0</th>\n",
       "      <td>US1ILAD0001</td>\n",
       "      <td>28.384615</td>\n",
       "      <td>2007/11</td>\n",
       "    </tr>\n",
       "    <tr>\n",
       "      <th>1</th>\n",
       "      <td>US1ILAD0001</td>\n",
       "      <td>82.655172</td>\n",
       "      <td>2007/12</td>\n",
       "    </tr>\n",
       "    <tr>\n",
       "      <th>2</th>\n",
       "      <td>US1ILAD0001</td>\n",
       "      <td>51.620690</td>\n",
       "      <td>2008/01</td>\n",
       "    </tr>\n",
       "    <tr>\n",
       "      <th>3</th>\n",
       "      <td>US1ILAD0001</td>\n",
       "      <td>59.333333</td>\n",
       "      <td>2008/03</td>\n",
       "    </tr>\n",
       "    <tr>\n",
       "      <th>4</th>\n",
       "      <td>US1ILAD0001</td>\n",
       "      <td>107.200000</td>\n",
       "      <td>2008/04</td>\n",
       "    </tr>\n",
       "    <tr>\n",
       "      <th>...</th>\n",
       "      <td>...</td>\n",
       "      <td>...</td>\n",
       "      <td>...</td>\n",
       "    </tr>\n",
       "    <tr>\n",
       "      <th>44233</th>\n",
       "      <td>US1ILMCL045</td>\n",
       "      <td>28.700000</td>\n",
       "      <td>2023/04</td>\n",
       "    </tr>\n",
       "    <tr>\n",
       "      <th>44234</th>\n",
       "      <td>US1ILMCL045</td>\n",
       "      <td>8.275862</td>\n",
       "      <td>2023/05</td>\n",
       "    </tr>\n",
       "    <tr>\n",
       "      <th>44235</th>\n",
       "      <td>US1ILMCL045</td>\n",
       "      <td>60.900000</td>\n",
       "      <td>2023/06</td>\n",
       "    </tr>\n",
       "    <tr>\n",
       "      <th>44236</th>\n",
       "      <td>US1ILMCL045</td>\n",
       "      <td>96.428571</td>\n",
       "      <td>2023/07</td>\n",
       "    </tr>\n",
       "    <tr>\n",
       "      <th>44237</th>\n",
       "      <td>US1ILMCL045</td>\n",
       "      <td>93.800000</td>\n",
       "      <td>2023/09</td>\n",
       "    </tr>\n",
       "  </tbody>\n",
       "</table>\n",
       "<p>44238 rows × 3 columns</p>\n",
       "</div>"
      ],
      "text/plain": [
       "           STATION  MONTHLY PRCP YEAR/MONTH\n",
       "0      US1ILAD0001     28.384615    2007/11\n",
       "1      US1ILAD0001     82.655172    2007/12\n",
       "2      US1ILAD0001     51.620690    2008/01\n",
       "3      US1ILAD0001     59.333333    2008/03\n",
       "4      US1ILAD0001    107.200000    2008/04\n",
       "...            ...           ...        ...\n",
       "44233  US1ILMCL045     28.700000    2023/04\n",
       "44234  US1ILMCL045      8.275862    2023/05\n",
       "44235  US1ILMCL045     60.900000    2023/06\n",
       "44236  US1ILMCL045     96.428571    2023/07\n",
       "44237  US1ILMCL045     93.800000    2023/09\n",
       "\n",
       "[44238 rows x 3 columns]"
      ]
     },
     "execution_count": 32,
     "metadata": {},
     "output_type": "execute_result"
    }
   ],
   "source": [
    "import pandas as pd\n",
    "import folium\n",
    "from scipy import stats\n",
    "\n",
    "data = pd.read_csv('combined_data.csv')\n",
    "data['DATE'] = pd.to_datetime(data['DATE'])\n",
    "data['YEAR'] = data['DATE'].dt.year\n",
    "data['MONTH'] = data['DATE'].dt.month\n",
    "\n",
    "data['PRCP'] /= 10\n",
    "\n",
    "# makes sures that there are at least 25 valid prcp valued for each month\n",
    "valid_data = data.groupby(['STATION', 'YEAR', 'MONTH']).filter(lambda x: len(x['PRCP'].dropna()) >= 25)\n",
    "\n",
    "# removes remaining nans that may be outside of the above groups\n",
    "valid_data = valid_data.dropna(subset=['PRCP'])\n",
    "\n",
    "monthly_sum_table = valid_data.groupby(['STATION', 'YEAR', 'MONTH'])['PRCP'].mean() * 30\n",
    "monthly_sum_table = monthly_sum_table.reset_index(name='MONTHLY PRCP')\n",
    "\n",
    "monthly_sum_table['YEAR/MONTH'] = monthly_sum_table['YEAR'].astype(str) + '/' + monthly_sum_table['MONTH'].astype(str).str.zfill(2)\n",
    "\n",
    "monthly_sum_table = monthly_sum_table[['STATION', 'MONTHLY PRCP', 'YEAR/MONTH']]\n",
    "\n",
    "monthly_sum_table = monthly_sum_table.sort_values(by=['STATION', 'YEAR/MONTH']) #sorts by ascending values for both station and date\n",
    "\n",
    "monthly_sum_table.to_csv('/Users/aleksdp/Desktop/UROP_Project/monthly_sums_PRCP.csv', index=False)\n",
    "monthly_sum_table"
   ]
  },
  {
   "cell_type": "code",
   "execution_count": null,
   "id": "2cdfeb8d",
   "metadata": {},
   "outputs": [],
   "source": []
  }
 ],
 "metadata": {
  "kernelspec": {
   "display_name": "Python 3 (ipykernel)",
   "language": "python",
   "name": "python3"
  },
  "language_info": {
   "codemirror_mode": {
    "name": "ipython",
    "version": 3
   },
   "file_extension": ".py",
   "mimetype": "text/x-python",
   "name": "python",
   "nbconvert_exporter": "python",
   "pygments_lexer": "ipython3",
   "version": "3.11.5"
  }
 },
 "nbformat": 4,
 "nbformat_minor": 5
}
